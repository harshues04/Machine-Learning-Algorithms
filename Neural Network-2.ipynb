{
  "nbformat": 4,
  "nbformat_minor": 0,
  "metadata": {
    "colab": {
      "provenance": []
    },
    "kernelspec": {
      "name": "python3",
      "display_name": "Python 3"
    },
    "language_info": {
      "name": "python"
    }
  },
  "cells": [
    {
      "cell_type": "markdown",
      "source": [
        "# Exercise 10"
      ],
      "metadata": {
        "id": "CNqwAjD1Sbof"
      }
    },
    {
      "cell_type": "markdown",
      "source": [
        "###  Use the MNIST data and build a neural network from scratch. the output should have 10 neurons. Check the performance of your model for the test data and record your observations."
      ],
      "metadata": {
        "id": "hW-e9RSSj7np"
      }
    },
    {
      "cell_type": "code",
      "source": [
        "import numpy as np\n",
        "from tensorflow.keras.datasets import mnist\n",
        "\n",
        "(train_images, train_labels), (test_images, test_labels) = mnist.load_data()\n",
        "\n",
        "train_images = train_images / 255.0\n",
        "test_images = test_images / 255.0\n",
        "\n",
        "train_images = train_images.reshape((-1, 28 * 28))\n",
        "test_images = test_images.reshape((-1, 28 * 28))\n",
        "\n",
        "train_labels_onehot = np.eye(10)[train_labels]\n",
        "test_labels_onehot = np.eye(10)[test_labels]\n",
        "\n",
        "input_size = 28 * 28\n",
        "hidden_size = 512\n",
        "output_size = 10\n",
        "\n",
        "def xavier_init(input_size, output_size):\n",
        "    limit = np.sqrt(6 / (input_size + output_size))\n",
        "    return np.random.uniform(-limit, limit, (input_size, output_size))\n",
        "\n",
        "W1 = xavier_init(input_size, hidden_size)\n",
        "b1 = np.zeros((1, hidden_size))\n",
        "\n",
        "W2 = xavier_init(hidden_size, output_size)\n",
        "b2 = np.zeros((1, output_size))\n",
        "\n",
        "def relu(x):\n",
        "    return np.maximum(0, x)\n",
        "\n",
        "def softmax(x):\n",
        "    e_x = np.exp(x - np.max(x, axis=1, keepdims=True))\n",
        "    return e_x / np.sum(e_x, axis=1, keepdims=True)\n",
        "\n",
        "def compute_loss(y_pred, y_true):\n",
        "    m = y_true.shape[0]\n",
        "    log_likelihood = -np.log(y_pred[range(m), np.argmax(y_true, axis=1)])\n",
        "    loss = np.sum(log_likelihood) / m\n",
        "    return loss\n",
        "\n",
        "def backpropagation(X, y_true, a1, a2):\n",
        "    m = X.shape[0]\n",
        "\n",
        "    dZ2 = a2 - y_true\n",
        "    dW2 = np.dot(a1.T, dZ2) / m\n",
        "    db2 = np.sum(dZ2, axis=0, keepdims=True) / m\n",
        "\n",
        "    dA1 = np.dot(dZ2, W2.T)\n",
        "    dZ1 = dA1 * (a1 > 0)  # ReLU derivative\n",
        "    dW1 = np.dot(X.T, dZ1) / m\n",
        "    db1 = np.sum(dZ1, axis=0, keepdims=True) / m\n",
        "\n",
        "    return dW1, db1, dW2, db2\n",
        "\n",
        "def forward_pass(X):\n",
        "    z1 = np.dot(X, W1) + b1\n",
        "    a1 = relu(z1)\n",
        "    z2 = np.dot(a1, W2) + b2\n",
        "    a2 = softmax(z2)\n",
        "    return a1, a2\n",
        "\n",
        "def train(X_train, y_train, X_test, y_test, epochs=20, batch_size=64, learning_rate=0.001):\n",
        "    global W1, b1, W2, b2\n",
        "\n",
        "    num_samples = X_train.shape[0]\n",
        "\n",
        "    for epoch in range(epochs):\n",
        "        indices = np.random.permutation(num_samples)\n",
        "        X_train = X_train[indices]\n",
        "        y_train = y_train[indices]\n",
        "\n",
        "        for i in range(0, num_samples, batch_size):\n",
        "            X_batch = X_train[i:i+batch_size]\n",
        "            y_batch = y_train[i:i+batch_size]\n",
        "\n",
        "            z1 = np.dot(X_batch, W1) + b1\n",
        "            a1 = relu(z1)\n",
        "            z2 = np.dot(a1, W2) + b2\n",
        "            a2 = softmax(z2)\n",
        "\n",
        "            loss = compute_loss(a2, y_batch)\n",
        "\n",
        "            dW1, db1, dW2, db2 = backpropagation(X_batch, y_batch, a1, a2)\n",
        "\n",
        "            W1 -= learning_rate * dW1\n",
        "            b1 -= learning_rate * db1\n",
        "            W2 -= learning_rate * dW2\n",
        "            b2 -= learning_rate * db2\n",
        "\n",
        "        if (epoch + 1) % 1 == 0:\n",
        "            print(f\"Epoch {epoch + 1}/{epochs}, Loss: {loss:.4f}\")\n",
        "\n",
        "            _, a2_test = forward_pass(X_test)\n",
        "            predictions = np.argmax(a2_test, axis=1)\n",
        "            accuracy = np.mean(predictions == np.argmax(y_test, axis=1))\n",
        "            print(f\"Test Accuracy after epoch {epoch + 1}: {accuracy * 100:.2f}%\")\n",
        "\n",
        "train(train_images, train_labels_onehot, test_images, test_labels_onehot, epochs=20, batch_size=64, learning_rate=0.001)"
      ],
      "metadata": {
        "colab": {
          "base_uri": "https://localhost:8080/"
        },
        "id": "LDXY7oIGi4Z7",
        "outputId": "05ba158f-9a82-499f-fcbf-2919ba7806be"
      },
      "execution_count": 13,
      "outputs": [
        {
          "output_type": "stream",
          "name": "stdout",
          "text": [
            "Epoch 1/20, Loss: 1.4661\n",
            "Test Accuracy after epoch 1: 75.42%\n",
            "Epoch 2/20, Loss: 1.0438\n",
            "Test Accuracy after epoch 2: 81.98%\n",
            "Epoch 3/20, Loss: 0.7405\n",
            "Test Accuracy after epoch 3: 84.21%\n",
            "Epoch 4/20, Loss: 0.7977\n",
            "Test Accuracy after epoch 4: 85.73%\n",
            "Epoch 5/20, Loss: 0.6022\n",
            "Test Accuracy after epoch 5: 86.78%\n",
            "Epoch 6/20, Loss: 0.4528\n",
            "Test Accuracy after epoch 6: 87.67%\n",
            "Epoch 7/20, Loss: 0.4373\n",
            "Test Accuracy after epoch 7: 88.23%\n",
            "Epoch 8/20, Loss: 0.5024\n",
            "Test Accuracy after epoch 8: 88.74%\n",
            "Epoch 9/20, Loss: 0.5602\n",
            "Test Accuracy after epoch 9: 88.97%\n",
            "Epoch 10/20, Loss: 0.3499\n",
            "Test Accuracy after epoch 10: 89.27%\n",
            "Epoch 11/20, Loss: 0.3697\n",
            "Test Accuracy after epoch 11: 89.61%\n",
            "Epoch 12/20, Loss: 0.4701\n",
            "Test Accuracy after epoch 12: 89.83%\n",
            "Epoch 13/20, Loss: 0.4886\n",
            "Test Accuracy after epoch 13: 90.10%\n",
            "Epoch 14/20, Loss: 0.3560\n",
            "Test Accuracy after epoch 14: 90.20%\n",
            "Epoch 15/20, Loss: 0.4838\n",
            "Test Accuracy after epoch 15: 90.42%\n",
            "Epoch 16/20, Loss: 0.2737\n",
            "Test Accuracy after epoch 16: 90.50%\n",
            "Epoch 17/20, Loss: 0.2817\n",
            "Test Accuracy after epoch 17: 90.60%\n",
            "Epoch 18/20, Loss: 0.3304\n",
            "Test Accuracy after epoch 18: 90.71%\n",
            "Epoch 19/20, Loss: 0.2970\n",
            "Test Accuracy after epoch 19: 90.87%\n",
            "Epoch 20/20, Loss: 0.3105\n",
            "Test Accuracy after epoch 20: 91.04%\n"
          ]
        }
      ]
    }
  ]
}