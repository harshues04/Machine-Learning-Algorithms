{
  "nbformat": 4,
  "nbformat_minor": 0,
  "metadata": {
    "colab": {
      "provenance": []
    },
    "kernelspec": {
      "name": "python3",
      "display_name": "Python 3"
    },
    "language_info": {
      "name": "python"
    }
  },
  "cells": [
    {
      "cell_type": "code",
      "source": [
        "import pandas as pd\n",
        "import numpy as np\n",
        "from sklearn.model_selection import train_test_split, GridSearchCV, StratifiedKFold\n",
        "from sklearn.preprocessing import LabelEncoder, StandardScaler\n",
        "from sklearn.neighbors import KNeighborsClassifier\n",
        "from sklearn.linear_model import LogisticRegression\n",
        "from sklearn.naive_bayes import GaussianNB\n",
        "from sklearn.tree import DecisionTreeClassifier\n",
        "from sklearn.svm import SVC\n",
        "from sklearn.metrics import accuracy_score\n",
        "\n",
        "data = pd.read_csv('/content/Telco-Customer-Churn.csv')\n",
        "\n",
        "if 'customerID' in data.columns:\n",
        "    data.drop(columns=['customerID'], inplace=True)\n",
        "\n",
        "label_encoders = {}\n",
        "for column in data.select_dtypes(include=['object']).columns:\n",
        "    le = LabelEncoder()\n",
        "    data[column] = le.fit_transform(data[column])\n",
        "    label_encoders[column] = le\n",
        "\n",
        "X = data.drop(columns=['Churn'])\n",
        "y = data['Churn']\n",
        "\n",
        "X_train, X_test, y_train, y_test = train_test_split(X, y, test_size=0.2, random_state=42)\n",
        "\n",
        "scaler = StandardScaler()\n",
        "X_train = scaler.fit_transform(X_train)\n",
        "X_test = scaler.transform(X_test)\n",
        "\n",
        "models = {\n",
        "    'KNN': KNeighborsClassifier(),\n",
        "    'Logistic Regression': LogisticRegression(),\n",
        "    'Naive Bayes': GaussianNB(),\n",
        "    'Decision Tree': DecisionTreeClassifier(),\n",
        "    'SVM': SVC()\n",
        "}\n",
        "\n",
        "cv_strategy = StratifiedKFold(n_splits=5, shuffle=True, random_state=42)\n",
        "\n",
        "param_grids = {\n",
        "    'KNN': {'n_neighbors': [3, 5, 7, 9], 'weights': ['uniform', 'distance']},\n",
        "    'Logistic Regression': {'C': [0.1, 1, 10], 'solver': ['liblinear', 'saga']},\n",
        "    'Naive Bayes': {},\n",
        "    'Decision Tree': {'max_depth': [3, 5, 10], 'min_samples_split': [2, 10, 20]},\n",
        "    'SVM': {'C': [0.1, 1, 10], 'kernel': ['linear', 'rbf'], 'gamma': ['scale', 'auto']}\n",
        "}\n",
        "\n",
        "best_models = {}\n",
        "for name, model in models.items():\n",
        "    grid_search = GridSearchCV(estimator=model, param_grid=param_grids[name], cv=cv_strategy, n_jobs=-1, scoring='accuracy')\n",
        "    grid_search.fit(X_train, y_train)\n",
        "\n",
        "    best_models[name] = grid_search.best_estimator_\n",
        "\n",
        "accuracies = {}\n",
        "for name, model in best_models.items():\n",
        "    y_pred = model.predict(X_test)\n",
        "    acc = accuracy_score(y_test, y_pred)\n",
        "    accuracies[name] = acc\n",
        "    print(f'{name} Test Accuracy: {acc:.4f}')\n",
        "\n",
        "best_model = max(accuracies, key=accuracies.get)\n",
        "best_accuracy = accuracies[best_model]\n",
        "print(f'\\nBest Model: {best_model} with Accuracy: {best_accuracy:.4f}')\n"
      ],
      "metadata": {
        "colab": {
          "base_uri": "https://localhost:8080/"
        },
        "id": "YsHcI7A7QOfe",
        "outputId": "c2c5452a-ee9d-4895-d2c9-b95a33fdab1b"
      },
      "execution_count": 5,
      "outputs": [
        {
          "output_type": "stream",
          "name": "stdout",
          "text": [
            "KNN Test Accuracy: 0.7679\n",
            "Logistic Regression Test Accuracy: 0.8155\n",
            "Naive Bayes Test Accuracy: 0.7580\n",
            "Decision Tree Test Accuracy: 0.7935\n",
            "SVM Test Accuracy: 0.8211\n",
            "\n",
            "Best Model: SVM with Accuracy: 0.8211\n"
          ]
        }
      ]
    }
  ]
}