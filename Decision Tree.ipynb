{
  "nbformat": 4,
  "nbformat_minor": 0,
  "metadata": {
    "colab": {
      "provenance": []
    },
    "kernelspec": {
      "name": "python3",
      "display_name": "Python 3"
    },
    "language_info": {
      "name": "python"
    }
  },
  "cells": [
    {
      "cell_type": "markdown",
      "source": [
        "# Exercise 6\n",
        "\n"
      ],
      "metadata": {
        "id": "rH4wkxUi_IIC"
      }
    },
    {
      "cell_type": "markdown",
      "source": [
        "### Create a custom Decision Tree Classifier and compute the accuracy."
      ],
      "metadata": {
        "id": "hoCGrrqO_XYz"
      }
    },
    {
      "cell_type": "code",
      "execution_count": 10,
      "metadata": {
        "colab": {
          "base_uri": "https://localhost:8080/"
        },
        "id": "YpwxKRxN8oqy",
        "outputId": "3b8f392e-275e-42d9-f508-90ece31a103f"
      },
      "outputs": [
        {
          "output_type": "stream",
          "name": "stdout",
          "text": [
            "Model Accuracy: 0.8625\n"
          ]
        }
      ],
      "source": [
        "import pandas as pd\n",
        "import numpy as np\n",
        "from sklearn.model_selection import train_test_split\n",
        "from sklearn.preprocessing import StandardScaler\n",
        "\n",
        "class DecisionTreeClassifierCustom:\n",
        "    def __init__(self, max_depth=None, criterion='entropy'):\n",
        "        self.max_depth = max_depth\n",
        "        self.criterion = criterion\n",
        "        self.tree = None\n",
        "\n",
        "    def entropy(self, y):\n",
        "        unique_classes, counts = np.unique(y, return_counts=True)\n",
        "        probabilities = counts / counts.sum()\n",
        "        return -np.sum(probabilities * np.log2(probabilities))\n",
        "\n",
        "    def gini_index(self, y):\n",
        "        unique_classes, counts = np.unique(y, return_counts=True)\n",
        "        probabilities = counts / counts.sum()\n",
        "        return 1 - np.sum(probabilities ** 2)\n",
        "\n",
        "    def impurity(self, y):\n",
        "        if self.criterion == 'gini':\n",
        "            return self.gini_index(y)\n",
        "        return self.entropy(y)\n",
        "\n",
        "    def information_gain(self, X_column, y, threshold):\n",
        "        left_mask = X_column <= threshold\n",
        "        right_mask = ~left_mask\n",
        "        left_impurity = self.impurity(y[left_mask])\n",
        "        right_impurity = self.impurity(y[right_mask])\n",
        "        left_weight = np.sum(left_mask) / len(y)\n",
        "        right_weight = np.sum(right_mask) / len(y)\n",
        "        return self.impurity(y) - (left_weight * left_impurity + right_weight * right_impurity)\n",
        "\n",
        "    def best_split(self, X, y):\n",
        "        best_gain = 0\n",
        "        best_feature = None\n",
        "        best_threshold = None\n",
        "        for feature in range(X.shape[1]):\n",
        "            thresholds = np.unique(X[:, feature])\n",
        "            for threshold in thresholds:\n",
        "                gain = self.information_gain(X[:, feature], y, threshold)\n",
        "                if gain > best_gain:\n",
        "                    best_gain, best_feature, best_threshold = gain, feature, threshold\n",
        "        return best_feature, best_threshold, best_gain\n",
        "\n",
        "    def build_tree(self, X, y, depth=0):\n",
        "        if len(np.unique(y)) == 1 or (self.max_depth and depth >= self.max_depth):\n",
        "            return np.bincount(y).argmax()\n",
        "        feature, threshold, gain = self.best_split(X, y)\n",
        "        if gain == 0:\n",
        "            return np.bincount(y).argmax()\n",
        "        left_mask = X[:, feature] <= threshold\n",
        "        right_mask = ~left_mask\n",
        "        left_subtree = self.build_tree(X[left_mask], y[left_mask], depth + 1)\n",
        "        right_subtree = self.build_tree(X[right_mask], y[right_mask], depth + 1)\n",
        "        return (feature, threshold, left_subtree, right_subtree)\n",
        "\n",
        "    def fit(self, X, y):\n",
        "        self.tree = self.build_tree(X, y)\n",
        "\n",
        "    def predict_sample(self, sample, node):\n",
        "        if isinstance(node, (int, np.integer)):\n",
        "            return node\n",
        "        feature, threshold, left_subtree, right_subtree = node\n",
        "        if sample[feature] <= threshold:\n",
        "            return self.predict_sample(sample, left_subtree)\n",
        "        else:\n",
        "            return self.predict_sample(sample, right_subtree)\n",
        "\n",
        "    def predict(self, X):\n",
        "        return np.array([self.predict_sample(sample, self.tree) for sample in X])\n",
        "\n",
        "# Load dataset\n",
        "file_path = \"/content/classification.csv\"\n",
        "df = pd.read_csv(file_path)\n",
        "\n",
        "# Handle missing values\n",
        "df.dropna(inplace=True)\n",
        "\n",
        "# Extract features and target\n",
        "X = df[['Age', 'EstimatedSalary']].values\n",
        "y = df['Purchased'].values\n",
        "\n",
        "# Feature Scaling\n",
        "scaler = StandardScaler()\n",
        "X = scaler.fit_transform(X)\n",
        "\n",
        "# Split dataset\n",
        "X_train, X_test, y_train, y_test = train_test_split(X, y, test_size=0.2, random_state=42)\n",
        "\n",
        "# Train and evaluate the model\n",
        "dt = DecisionTreeClassifierCustom(max_depth=10, criterion='gini')\n",
        "dt.fit(X_train, y_train)\n",
        "y_pred = dt.predict(X_test)\n",
        "accuracy = np.mean(y_pred == y_test)\n",
        "print(f\"Model Accuracy: {accuracy:.4f}\")"
      ]
    },
    {
      "cell_type": "markdown",
      "source": [
        "### Compare the accuracy with sklearn's DecisionTreeClassifier."
      ],
      "metadata": {
        "id": "mcRD-CSj_fti"
      }
    },
    {
      "cell_type": "code",
      "source": [
        "import pandas as pd\n",
        "import numpy as np\n",
        "from sklearn.model_selection import train_test_split\n",
        "from sklearn.tree import DecisionTreeClassifier\n",
        "from sklearn.metrics import accuracy_score\n",
        "\n",
        "file_path = \"/content/classification.csv\"\n",
        "df = pd.read_csv(file_path)\n",
        "X = df[['Age', 'EstimatedSalary']].values\n",
        "y = df['Purchased'].values\n",
        "X_train, X_test, y_train, y_test = train_test_split(X, y, test_size=0.2, random_state=42)\n",
        "\n",
        "dt = DecisionTreeClassifier(max_depth=10, random_state=42)\n",
        "dt.fit(X_train, y_train)\n",
        "y_pred = dt.predict(X_test)\n",
        "accuracy = accuracy_score(y_test, y_pred)\n",
        "print(f\"Model Accuracy: {accuracy:.4f}\")"
      ],
      "metadata": {
        "colab": {
          "base_uri": "https://localhost:8080/"
        },
        "id": "G47g97mi_Az5",
        "outputId": "6bd8bd3d-7860-42e4-f7e1-c0fdad991c52"
      },
      "execution_count": 11,
      "outputs": [
        {
          "output_type": "stream",
          "name": "stdout",
          "text": [
            "Model Accuracy: 0.8500\n"
          ]
        }
      ]
    }
  ]
}