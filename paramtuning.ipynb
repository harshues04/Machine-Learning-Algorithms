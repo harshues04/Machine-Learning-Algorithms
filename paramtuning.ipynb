{
  "nbformat": 4,
  "nbformat_minor": 0,
  "metadata": {
    "colab": {
      "provenance": []
    },
    "kernelspec": {
      "name": "python3",
      "display_name": "Python 3"
    },
    "language_info": {
      "name": "python"
    }
  },
  "cells": [
    {
      "cell_type": "markdown",
      "source": [
        "# Exercise 8"
      ],
      "metadata": {
        "id": "ro-NEC1ORP9b"
      }
    },
    {
      "cell_type": "code",
      "source": [
        "import pandas as pd\n",
        "from sklearn.model_selection import train_test_split, RandomizedSearchCV\n",
        "from xgboost import XGBClassifier\n",
        "from sklearn.preprocessing import LabelEncoder, MinMaxScaler\n",
        "from sklearn.metrics import log_loss\n",
        "\n",
        "train_path = \"/content/train.csv\"\n",
        "test_path = \"/content/test.csv\"\n",
        "train_df = pd.read_csv(train_path)\n",
        "test_df = pd.read_csv(test_path)\n",
        "\n",
        "categorical_cols = [\"Drug\", \"Ascites\", \"Hepatomegaly\", \"Spiders\"]\n",
        "numerical_cols = [\"Cholesterol\", \"Copper\", \"Alk_Phos\", \"SGOT\", \"Tryglicerides\", \"Platelets\", \"Prothrombin\"]\n",
        "\n",
        "train_df[categorical_cols] = train_df[categorical_cols].fillna(train_df[categorical_cols].mode().iloc[0])\n",
        "test_df[categorical_cols] = test_df[categorical_cols].fillna(test_df[categorical_cols].mode().iloc[0])\n",
        "\n",
        "train_df[numerical_cols] = train_df[numerical_cols].fillna(train_df[numerical_cols].mean())\n",
        "test_df[numerical_cols] = test_df[numerical_cols].fillna(test_df[numerical_cols].mean())\n",
        "\n",
        "label_encoders = {}\n",
        "categorical_features = [\"Drug\", \"Sex\", \"Ascites\", \"Hepatomegaly\", \"Spiders\", \"Edema\"]\n",
        "for col in categorical_features:\n",
        "    le = LabelEncoder()\n",
        "    train_df[col] = le.fit_transform(train_df[col])\n",
        "    test_df[col] = le.transform(test_df[col])\n",
        "    label_encoders[col] = le\n",
        "\n",
        "target_encoder = LabelEncoder()\n",
        "train_df[\"Status\"] = target_encoder.fit_transform(train_df[\"Status\"])\n",
        "\n",
        "numerical_features = [\"N_Days\", \"Age\", \"Bilirubin\", \"Cholesterol\", \"Albumin\", \"Copper\", \"Alk_Phos\", \"SGOT\", \"Tryglicerides\", \"Platelets\", \"Prothrombin\", \"Stage\"]\n",
        "scaler = MinMaxScaler()\n",
        "train_df[numerical_features] = scaler.fit_transform(train_df[numerical_features])\n",
        "test_df[numerical_features] = scaler.transform(test_df[numerical_features])\n",
        "\n",
        "X = train_df.drop(columns=[\"id\", \"Status\"])\n",
        "y = train_df[\"Status\"]\n",
        "\n",
        "X_train, X_val, y_train, y_val = train_test_split(X, y, test_size=0.2, random_state=42, stratify=y)\n",
        "\n",
        "param_dist = {\n",
        "    \"n_estimators\": [100, 200, 300, 400],\n",
        "    \"max_depth\": [3, 5, 7, 10],\n",
        "    \"learning_rate\": [0.01, 0.05, 0.1, 0.2],\n",
        "    \"subsample\": [0.7, 0.8, 0.9, 1.0],\n",
        "    \"colsample_bytree\": [0.7, 0.8, 0.9, 1.0],\n",
        "    \"gamma\": [0, 0.1, 0.2, 0.3]\n",
        "}\n",
        "\n",
        "clf = XGBClassifier(objective=\"multi:softprob\", eval_metric=\"mlogloss\", use_label_encoder=False, random_state=42)\n",
        "random_search = RandomizedSearchCV(clf, param_dist, n_iter=30, cv=5, scoring='neg_log_loss', verbose=2, n_jobs=-1, random_state=42)\n",
        "random_search.fit(X_train, y_train)\n",
        "\n",
        "best_clf = random_search.best_estimator_\n",
        "y_val_pred_proba = best_clf.predict_proba(X_val)\n",
        "val_log_loss = log_loss(y_val, y_val_pred_proba)\n",
        "print(\"Validation Log Loss:\", val_log_loss)\n",
        "\n",
        "test_proba = best_clf.predict_proba(test_df.drop(columns=[\"id\"]))\n",
        "\n",
        "submission = pd.DataFrame({\n",
        "    \"id\": test_df[\"id\"],\n",
        "    \"Status_C\": test_proba[:, 0],\n",
        "    \"Status_CL\": test_proba[:, 1],\n",
        "    \"Status_D\": test_proba[:, 2],\n",
        "})\n",
        "\n",
        "submission.to_csv(\"sample_submission.csv\", index=False)\n",
        "print(\"Submission file saved as submission.csv\")\n",
        "print(\"Best Parameters:\", random_search.best_params_)"
      ],
      "metadata": {
        "id": "VoUr1lybRPFk"
      },
      "execution_count": null,
      "outputs": []
    }
  ]
}